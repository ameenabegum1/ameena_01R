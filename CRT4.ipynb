{
  "nbformat": 4,
  "nbformat_minor": 0,
  "metadata": {
    "colab": {
      "provenance": [],
      "authorship_tag": "ABX9TyN/e4nKF9CuIl4ao/QoYNyT",
      "include_colab_link": true
    },
    "kernelspec": {
      "name": "python3",
      "display_name": "Python 3"
    },
    "language_info": {
      "name": "python"
    }
  },
  "cells": [
    {
      "cell_type": "markdown",
      "metadata": {
        "id": "view-in-github",
        "colab_type": "text"
      },
      "source": [
        "<a href=\"https://colab.research.google.com/github/ameenabegum1/ameena_01R/blob/main/CRT4.ipynb\" target=\"_parent\"><img src=\"https://colab.research.google.com/assets/colab-badge.svg\" alt=\"Open In Colab\"/></a>"
      ]
    },
    {
      "cell_type": "code",
      "source": [
        "n1=input()\n",
        "n2=input()\n",
        "cnt=0\n",
        "carry=0\n",
        "if len(n1)<=len(n2):\n",
        "  l=len(n1)-1\n",
        "else:\n",
        "  l=len(n2)-1\n",
        "for i in range(l+1):\n",
        "  temp=int(n1[l-i])+int(n2[l-i])+carry\n",
        "  if len(str(temp))>1:\n",
        "    cnt+=1\n",
        "    carry=1\n",
        "  else:\n",
        "    carry=0\n",
        "print(cnt+carry)\n"
      ],
      "metadata": {
        "colab": {
          "base_uri": "https://localhost:8080/"
        },
        "id": "rx_vQTfmz1By",
        "outputId": "bae2fde5-567b-4b1d-cf7a-37b449d8f1dc"
      },
      "execution_count": null,
      "outputs": [
        {
          "output_type": "stream",
          "name": "stdout",
          "text": [
            "451\n",
            "349\n",
            "2\n"
          ]
        }
      ]
    },
    {
      "cell_type": "code",
      "source": [],
      "metadata": {
        "id": "rCIXn4By-UEP"
      },
      "execution_count": null,
      "outputs": []
    },
    {
      "cell_type": "code",
      "source": [],
      "metadata": {
        "id": "FyiGr_KP-bU9"
      },
      "execution_count": null,
      "outputs": []
    },
    {
      "cell_type": "code",
      "source": [
        "n1=int(input())\n",
        "n2=int(input())\n",
        "cnt=0\n",
        "carry=0\n",
        "while (n1 and n2 )>0:\n",
        "  sum=(n1%10) +(n2%10 )+ carry\n",
        "  carry=sum//10\n",
        "  cnt+=1\n",
        "  n1//=10\n",
        "  n2//=10\n",
        "print(cnt-1)\n"
      ],
      "metadata": {
        "colab": {
          "base_uri": "https://localhost:8080/"
        },
        "id": "PrkY_7xX1x78",
        "outputId": "5e15e73a-0627-433a-9234-80ea71857c14"
      },
      "execution_count": null,
      "outputs": [
        {
          "output_type": "stream",
          "name": "stdout",
          "text": [
            "451\n",
            "349\n",
            "2\n"
          ]
        }
      ]
    },
    {
      "cell_type": "code",
      "source": [
        "n=int(input())\n",
        "f1=0\n",
        "f2=1\n",
        "for i in range(n+1):\n",
        "  f3=f1+f2\n",
        "  f1=f2\n",
        "  f2=f3\n",
        "print(f3)"
      ],
      "metadata": {
        "colab": {
          "base_uri": "https://localhost:8080/"
        },
        "id": "G4syBIal53ee",
        "outputId": "9b664c57-4f79-4668-be87-006e9e761e22"
      },
      "execution_count": null,
      "outputs": [
        {
          "output_type": "stream",
          "name": "stdout",
          "text": [
            "5\n",
            "13\n"
          ]
        }
      ]
    },
    {
      "cell_type": "code",
      "source": [
        "n=int(input())\n",
        "for i in range(n,0,-1):\n",
        "  for j in range(1,i+1):\n",
        "     print(j,end=\"\")\n",
        "  print()\n"
      ],
      "metadata": {
        "colab": {
          "base_uri": "https://localhost:8080/"
        },
        "id": "5aGVjV6O20bU",
        "outputId": "7edd07e1-f4a9-4e73-cae2-264d3a2923f7"
      },
      "execution_count": null,
      "outputs": [
        {
          "output_type": "stream",
          "name": "stdout",
          "text": [
            "4\n",
            "12345\n",
            "1234\n",
            "123\n",
            "12\n",
            "1\n"
          ]
        }
      ]
    },
    {
      "cell_type": "code",
      "source": [
        "n=int(input())\n",
        "\n",
        "for i in range(1,n+1):\n",
        "  for j in range(1,i+1):\n",
        "    if (j<i):\n",
        "      print(i,end=\"*\")\n",
        "    else:\n",
        "      print(i,end=\"\")\n",
        "  print()\n",
        "for i in range(n,0,-1):\n",
        "  for j in range(1,i+1):\n",
        "    if (j<i):\n",
        "      print(i,end=\"*\")\n",
        "    else:\n",
        "      print(i,end=\"\")\n",
        "\n",
        "\n",
        "  print()"
      ],
      "metadata": {
        "colab": {
          "base_uri": "https://localhost:8080/"
        },
        "id": "MNbaPQvQFigo",
        "outputId": "bb4e5834-fdce-4dd3-951f-c63f65169206"
      },
      "execution_count": null,
      "outputs": [
        {
          "output_type": "stream",
          "name": "stdout",
          "text": [
            "4\n",
            "1\n",
            "2*2\n",
            "3*3*3\n",
            "4*4*4*4\n",
            "4*4*4*4\n",
            "3*3*3\n",
            "2*2\n",
            "1\n"
          ]
        }
      ]
    },
    {
      "cell_type": "code",
      "source": [
        "n=int(input())\n",
        "for i in range(1,n+1):\n",
        "  for j in range(1,i+1):\n",
        "    if(i<j):\n",
        "      print(j)\n",
        "    print(i)\n",
        "    else:\n",
        "      print(j)\n",
        "    print(i)\n"
      ],
      "metadata": {
        "id": "AYWHP77gJFj5"
      },
      "execution_count": null,
      "outputs": []
    }
  ]
}